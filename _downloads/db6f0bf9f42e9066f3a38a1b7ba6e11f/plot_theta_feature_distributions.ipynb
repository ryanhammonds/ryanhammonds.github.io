{
  "cells": [
    {
      "cell_type": "code",
      "execution_count": null,
      "metadata": {
        "collapsed": false
      },
      "outputs": [],
      "source": [
        "%matplotlib inline"
      ]
    },
    {
      "cell_type": "markdown",
      "metadata": {},
      "source": [
        "\nTheta oscillation cycle feature distributions\n=============================================\nThis tutorial computes the distributions of cycle features for two recordings\n"
      ]
    },
    {
      "cell_type": "code",
      "execution_count": null,
      "metadata": {
        "collapsed": false
      },
      "outputs": [],
      "source": [
        "import numpy as np\nimport matplotlib.pyplot as plt\n\nfrom neurodsp.filt import filter_signal\nfrom bycycle.features import compute_features"
      ]
    },
    {
      "cell_type": "markdown",
      "metadata": {},
      "source": [
        "Load and preprocess data\n~~~~~~~~~~~~~~~~~~~~~~~~\n\n"
      ]
    },
    {
      "cell_type": "code",
      "execution_count": null,
      "metadata": {
        "collapsed": false
      },
      "outputs": [],
      "source": [
        "# Load data\nca1_raw = np.load('data/ca1.npy')\nec3_raw = np.load('data/ec3.npy')\nFs = 1250\nf_theta = (4, 10)"
      ]
    },
    {
      "cell_type": "code",
      "execution_count": null,
      "metadata": {
        "collapsed": false
      },
      "outputs": [],
      "source": [
        "# Only keep 60 seconds of data\nN_seconds = 60\nca1_raw = ca1_raw[:int(N_seconds*Fs)]\nec3_raw = ec3_raw[:int(N_seconds*Fs)]"
      ]
    },
    {
      "cell_type": "code",
      "execution_count": null,
      "metadata": {
        "collapsed": false
      },
      "outputs": [],
      "source": [
        "# Apply a lowpass filter at 25Hz\nfc = 25\nfilter_seconds = .5\n\nca1 = filter_signal(ca1_raw, Fs, 'lowpass', fc, n_seconds=filter_seconds,\n                    remove_edges=False)\nec3 = filter_signal(ec3_raw, Fs, 'lowpass', fc, n_seconds=filter_seconds,\n                    remove_edges=False)"
      ]
    },
    {
      "cell_type": "markdown",
      "metadata": {},
      "source": [
        "Compute cycle-by-cycle features\n~~~~~~~~~~~~~~~~~~~~~~~~~~~~~~~\n\n"
      ]
    },
    {
      "cell_type": "code",
      "execution_count": null,
      "metadata": {
        "collapsed": false
      },
      "outputs": [],
      "source": [
        "# Set parameters for defining oscillatory bursts\nosc_kwargs = {'amplitude_fraction_threshold': 0,\n              'amplitude_consistency_threshold': .6,\n              'period_consistency_threshold': .75,\n              'monotonicity_threshold': .8,\n              'N_cycles_min': 3}\n\n# Cycle-by-cycle analysis\ndf_ca1 = compute_features(ca1, Fs, f_theta, center_extrema='T',\n                          burst_detection_kwargs=osc_kwargs)\n\ndf_ec3 = compute_features(ec3, Fs, f_theta, center_extrema='T',\n                          burst_detection_kwargs=osc_kwargs)\n\n# Limit analysis only to oscillatory bursts\ndf_ca1_cycles = df_ca1[df_ca1['is_burst']]\ndf_ec3_cycles = df_ec3[df_ec3['is_burst']]"
      ]
    },
    {
      "cell_type": "markdown",
      "metadata": {},
      "source": [
        "Plot time series for each recording\n~~~~~~~~~~~~~~~~~~~~~~~~~~~~~~~~~~~\n\n"
      ]
    },
    {
      "cell_type": "code",
      "execution_count": null,
      "metadata": {
        "collapsed": false
      },
      "outputs": [],
      "source": [
        "# Choose samples to plot\nsamplims = (10000, 12000)\nca1_plt = ca1_raw[samplims[0]:samplims[1]]/1000\nec3_plt = ec3_raw[samplims[0]:samplims[1]]/1000\nt = np.arange(0, len(ca1_plt)/Fs, 1/Fs)"
      ]
    },
    {
      "cell_type": "code",
      "execution_count": null,
      "metadata": {
        "collapsed": false
      },
      "outputs": [],
      "source": [
        "plt.figure(figsize=(12, 3))\nplt.plot(t, ca1_plt, 'k')\nplt.xlim((0, 1.6))\nplt.ylim((-2.4, 2.4))\nplt.xlabel('Time (s)', size=15)\nplt.ylabel('CA1 Voltage (mV)', size=15)\nplt.xticks(size=12)\nplt.yticks(size=12)\nplt.show()"
      ]
    },
    {
      "cell_type": "code",
      "execution_count": null,
      "metadata": {
        "collapsed": false
      },
      "outputs": [],
      "source": [
        "plt.figure(figsize=(12, 3))\nplt.plot(t, ec3_plt, 'r')\nplt.xlim((0, 1.6))\nplt.ylim((-2.4, 2.4))\nplt.xlabel('Time (s)', size=15)\nplt.ylabel('EC3 Voltage (mV)', size=15)\nplt.xticks(size=12)\nplt.yticks(size=12)\nplt.show()"
      ]
    },
    {
      "cell_type": "markdown",
      "metadata": {},
      "source": [
        "Plot feature distributions\n~~~~~~~~~~~~~~~~~~~~~~~~~~\n\n"
      ]
    },
    {
      "cell_type": "code",
      "execution_count": null,
      "metadata": {
        "collapsed": false
      },
      "outputs": [],
      "source": [
        "plt.figure(figsize=(5, 5))\nplt.hist(df_ca1_cycles['volt_amp']/1000, bins=np.arange(0, 8, .1), color='k', alpha=.5, label='CA1')\nplt.hist(df_ec3_cycles['volt_amp']/1000, bins=np.arange(0, 8, .1), color='r', alpha=.5, label='EC3')\nplt.xticks(np.arange(5), size=12)\nplt.legend(fontsize=15)\nplt.yticks(size=12)\nplt.xlim((0, 4.5))\nplt.xlabel('Cycle amplitude (mV)', size=15)\nplt.ylabel('# cycles', size=15)\nplt.tight_layout()\nplt.show()\n\nplt.figure(figsize=(5, 5))\nplt.hist(df_ca1_cycles['period'] / Fs * 1000, bins=np.arange(0, 250, 5), color='k', alpha=.5)\nplt.hist(df_ec3_cycles['period'] / Fs * 1000, bins=np.arange(0, 250, 5), color='r', alpha=.5)\nplt.xticks(size=12)\nplt.yticks(size=12)\nplt.xlim((0, 250))\nplt.xlabel('Cycle period (ms)', size=15)\nplt.ylabel('# cycles', size=15)\nplt.tight_layout()\nplt.show()\n\nplt.figure(figsize=(5, 5))\nplt.hist(df_ca1_cycles['time_rdsym'], bins=np.arange(0, 1, .02), color='k', alpha=.5)\nplt.hist(df_ec3_cycles['time_rdsym'], bins=np.arange(0, 1, .02), color='r', alpha=.5)\nplt.xticks(size=12)\nplt.yticks(size=12)\nplt.xlim((0, 1))\nplt.xlabel('Rise-decay asymmetry\\n(fraction of cycle in rise period)', size=15)\nplt.ylabel('# cycles', size=15)\nplt.tight_layout()\nplt.show()\n\nplt.figure(figsize=(5, 5))\nplt.hist(df_ca1_cycles['time_ptsym'], bins=np.arange(0, 1, .02), color='k', alpha=.5)\nplt.hist(df_ec3_cycles['time_ptsym'], bins=np.arange(0, 1, .02), color='r', alpha=.5)\nplt.xticks(size=12)\nplt.yticks(size=12)\nplt.xlim((0, 1))\nplt.xlabel('Peak-trough asymmetry\\n(fraction of cycle in peak period)', size=15)\nplt.ylabel('# cycles', size=15)\nplt.tight_layout()\nplt.show()"
      ]
    }
  ],
  "metadata": {
    "kernelspec": {
      "display_name": "Python 3",
      "language": "python",
      "name": "python3"
    },
    "language_info": {
      "codemirror_mode": {
        "name": "ipython",
        "version": 3
      },
      "file_extension": ".py",
      "mimetype": "text/x-python",
      "name": "python",
      "nbconvert_exporter": "python",
      "pygments_lexer": "ipython3",
      "version": "3.8.2"
    }
  },
  "nbformat": 4,
  "nbformat_minor": 0
}