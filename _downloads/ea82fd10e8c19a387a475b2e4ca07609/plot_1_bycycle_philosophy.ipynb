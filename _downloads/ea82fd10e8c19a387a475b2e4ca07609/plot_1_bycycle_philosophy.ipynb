{
  "cells": [
    {
      "cell_type": "code",
      "execution_count": null,
      "metadata": {
        "collapsed": false
      },
      "outputs": [],
      "source": [
        "%matplotlib inline"
      ]
    },
    {
      "cell_type": "markdown",
      "metadata": {},
      "source": [
        "\n1. Cycle-by-cycle philosophy\n============================\n\nNeural signals, like the example shown below, are analyzed in order to extract information about\nbrain activity. Basically, we process these signals in order to extract features that will hopefully\ncorrelate with a behavior, pathology, or something else.\n\nAs the most prominent feature of these signals tends to be the oscillations in them, spectral\nanalysis is often applied in order to characterize these rhythms in terms of their frequency, power,\nand phase.\n\nThe conventional approach to analyzing these properties as a function of time is to only study a\nnarrowband signal by applying a wavelet transform or bandpass filtering followed by the Hilbert\ntransform. The latter is demonstrated below.\n"
      ]
    },
    {
      "cell_type": "markdown",
      "metadata": {},
      "source": [
        "Conventional analysis of amplitude and phase: Hilbert Transform\n---------------------------------------------------------------\n\n"
      ]
    },
    {
      "cell_type": "code",
      "execution_count": null,
      "metadata": {
        "collapsed": false
      },
      "outputs": [],
      "source": [
        "import numpy as np\nimport scipy as sp\nfrom scipy import signal as spsignal\nimport matplotlib.pyplot as plt\nfrom bycycle.filt import amp_by_time, phase_by_time, bandpass_filter\n\nsignal = np.load('data/sim_bursting_more_noise.npy')\nFs = 1000  # Sampling rate\nf_alpha = (8, 12)\nN_seconds_filter = .5\n\n# Compute amplitude and phase\nsignal_filt = bandpass_filter(signal, Fs, f_alpha, N_seconds=N_seconds_filter)\ntheta_amp = amp_by_time(signal, Fs, f_alpha,\n                        filter_kwargs={'N_seconds': N_seconds_filter})\ntheta_phase = phase_by_time(signal, Fs, f_alpha,\n                            filter_kwargs={'N_seconds': N_seconds_filter})\n\n# Plots signal\nt = np.arange(0, len(signal)/Fs, 1/Fs)\ntlim = (2, 6)\ntidx = np.logical_and(t>=tlim[0], t<tlim[1])\n\nplt.figure(figsize=(12,6))\nplt.subplot(3,1,1)\nplt.plot(t[tidx], signal[tidx], 'k')\nplt.xlim(tlim)\nplt.ylabel('Voltage (mV)')\n\nplt.subplot(3,1,2)\nplt.plot(t[tidx], signal_filt[tidx], 'k', alpha=.5)\nplt.plot(t[tidx], theta_amp[tidx], 'r')\nplt.xlim(tlim)\nplt.ylabel('Oscillation amplitude', color='r')\n\nplt.subplot(3,1,3)\nplt.plot(t[tidx], theta_phase[tidx], 'r')\nplt.xlim(tlim)\nplt.ylabel('Phase (radians)', color='r')\n\nplt.tight_layout()\nplt.show()"
      ]
    },
    {
      "cell_type": "markdown",
      "metadata": {},
      "source": [
        "This conventional analysis has some advantages and disadvantages. As for advantages:\n\n- Quick calculation\n- Neat mathematical theory\n- Results largely make sense\n- Defined at every point in time.\n\nBecause of this last property, these traces have come to be known as \"instantaneous amplitude\"\nand \"instantaneous phase.\" And they seem to make a lot of sense, when looking at the raw signal.\n\nHowever, there are some key disadvantages to this analysis that stem from its sine wave basis.\n\n1. Being defined at every point in time gives the illusion that the phase and amplitude estimates\nare valid at all points in time. However, the amplitude and phase estimates are pretty garbage\nwhen there's no oscillation going on (the latter half of the time series above). The \"amplitude\"\nand \"phase\" values are meaningless when no oscillation is actually present. Rather, they are\ninfluenced by the other aspects of the signal, such as transients. For this reason, these measures\nare flaws, and burst detection is very important to help alleviate this issue.\n2. This analysis does not capture a potentially important aspect of the data, in that the\noscillatory cycles tend to have short rises and longer decays. This is partly because the signal\nis filtered in a narrow frequency band (using a sine wave basis) that cannot accurately\nreconstruct nonsinusoidal waveforms. Furthermore, this nonsinusoidal feature will unintuitively\nbias amplitude and phase estimates (though perhaps negligibly). Furthermore, there are no apparent\ntools for extracting nonsinusoidal properties using conventional techniques.\n\n\nNote that different hyperparameter choices for filters can lead to significant differences in results\n~~~~~~~~~~~~~~~~~~~~~~~~~~~~~~~~~~~~~~~~~~~~~~~~~~~~~~~~~~~~~~~~~~~~~~~~~~~~~~~~~~~~~~~~~~~~~~~~~~~~~\n\nWhen effect sizes are small, these hyperparameter choices may make a crucial difference.\n\n\n"
      ]
    },
    {
      "cell_type": "code",
      "execution_count": null,
      "metadata": {
        "collapsed": false
      },
      "outputs": [],
      "source": [
        "# Different hyperparameter choices - filter length and center frequency and bandwidth\nf_alphas = [(6, 14), (8, 12), (9, 13)]\nN_secondss = [.4, .75, 1.2]\n\namps = []\nphases = []\nfor f_alpha in f_alphas:\n    for N_seconds_filter in N_secondss:\n        amp = amp_by_time(signal, Fs, f_alpha,\n                          filter_kwargs={'N_seconds': N_seconds_filter})\n        phase = phase_by_time(signal, Fs, f_alpha,\n                              filter_kwargs={'N_seconds': N_seconds_filter})\n        amps.append(amp)\n        phases.append(phase)\n\nplt.figure(figsize=(12,2))\nfor amp in amps:\n    plt.plot(t[tidx], amp[tidx])\nplt.xlim(tlim)\nplt.tight_layout()\nplt.show()"
      ]
    },
    {
      "cell_type": "code",
      "execution_count": null,
      "metadata": {
        "collapsed": false
      },
      "outputs": [],
      "source": [
        "plt.figure(figsize=(12,2))\nfor phase in phases:\n    plt.plot(t[tidx], phase[tidx])\nplt.xlim(tlim)\nplt.tight_layout()\nplt.show()"
      ]
    },
    {
      "cell_type": "markdown",
      "metadata": {},
      "source": [
        "Cycle-by-cycle approach\n=======================\n\nThe main issues in the conventional approach are because the measurements of amplitude and phase\nare very indirect, using certain transforms in the frequency domain defined by sine waves.\nTherefore, we developed an alternative approach that analyzes oscillatory properties more directly\nby staying in the time domain. Arguably, it is best to analyze these signals in the time domain\nbecause this is the domain in which they are generated (the brain does not generate sums of\nindependent sine waves).\n\nThe benefits of this alternative approach may include:\n\n- More direct measurements of amplitude and frequency may be more accurate (see Figures 5 and 6 \\\n  in the associated preprint).\n- Characterization of waveform shape, in addition to amplitude and phase and frequency.\n- Explicit definitions of which portions of the signal are suitable for analysis (in oscillatory \\\n  bursts) or not (no oscillation present).\n- It is important to note that this approach also has some key disadvantages. First, it is not \\\n  widely adopted like the conventional techniques. Second, it requires more hyperparameter \\\n  choosing and potentialyy more quality control compared to conventional techniques. I emphasize \\\n  how important it is to visualize the cycle-by-cycle characterization and burst detection to \\\n  assure that the metrics match the intuition. However, this is not commonly expected or \\\n  performed using conventional techniques.\n\n\n"
      ]
    }
  ],
  "metadata": {
    "kernelspec": {
      "display_name": "Python 3",
      "language": "python",
      "name": "python3"
    },
    "language_info": {
      "codemirror_mode": {
        "name": "ipython",
        "version": 3
      },
      "file_extension": ".py",
      "mimetype": "text/x-python",
      "name": "python",
      "nbconvert_exporter": "python",
      "pygments_lexer": "ipython3",
      "version": "3.8.2"
    }
  },
  "nbformat": 4,
  "nbformat_minor": 0
}