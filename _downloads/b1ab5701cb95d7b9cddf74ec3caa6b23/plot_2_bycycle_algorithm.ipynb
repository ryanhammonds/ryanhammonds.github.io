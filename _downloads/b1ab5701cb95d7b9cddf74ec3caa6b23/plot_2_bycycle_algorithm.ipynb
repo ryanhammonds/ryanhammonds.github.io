{
  "cells": [
    {
      "cell_type": "code",
      "execution_count": null,
      "metadata": {
        "collapsed": false
      },
      "outputs": [],
      "source": [
        "%matplotlib inline"
      ]
    },
    {
      "cell_type": "markdown",
      "metadata": {},
      "source": [
        "\n2. Cycle-by-cycle algorithm\n===========================\n\nIn the last tutorial notebook, I described the conventional approach for analyzing time-varying\nproperties of neural oscillations, and in this notebook, we will go over our alternative approach.\nThe fundamental goal of this approach is to characterize neural oscillations directly in the time\ndomain. However, this is not straightforward because it attempts to extract the properties of the\noscillatory component, despite the large amount of noise. Specifically, there are two very difficult\nproblems:\n\n1. What are the features of the oscillation? How do they vary over time?\n2. During what times is the oscillation present?\n\nThe cycle-by-cycle approach deploys a few strategies to approach these questions. As its name\nindicates, this algorithm segments the signal into individual cycles and then analyzes their\nfeatures separately from one another. Normally, some preprocessing is recommended to aid in\nlocalizing peaks and troughs (eliminating high frequency power that mostly do not comprise the\noscillator of interest). Additionally, a burst detection approach is applied to define the segments\nof the signal to be analyzed for their oscillatory properties.\n\nDuring this process (as with all data analyses), it is important to be aware if the data is being\nprocessed appropriately. As signal processing is complicated, it is very beneficial to visualize\nthe measured features along with the raw data to assure they make sense.\n"
      ]
    },
    {
      "cell_type": "markdown",
      "metadata": {},
      "source": [
        "0. Preprocess signal\n--------------------\nA crucial part of the cycle-by-cycle approach is the ability to localize the peaks and troughs of\nthe oscillation. Therefore, some preprocessing of the signal is often useful in order to make\nthese extrema more apparent, i.e. isolate the oscillation component and minimize the\nnonoscillatory components. One effective way of doing this is by applying a lowpass filter. The\nchoice of cutoff frequency is very important. The cutoff frequency should not be low enough in\norder to remove high frequency \"noise\" that interferes with extrema localization but not so low\nthat it deforms the shape of the oscillation of interest. In order to assess this, the user should\nplot the filtered signal in comparison to the original signal.\n\n"
      ]
    },
    {
      "cell_type": "code",
      "execution_count": null,
      "metadata": {
        "collapsed": false
      },
      "outputs": [],
      "source": [
        "import numpy as np\nimport scipy as sp\nimport matplotlib.pyplot as plt\nfrom bycycle.filt import lowpass_filter\n\nimport pandas as pd\npd.options.display.max_columns = 30"
      ]
    },
    {
      "cell_type": "code",
      "execution_count": null,
      "metadata": {
        "collapsed": false
      },
      "outputs": [],
      "source": [
        "# Load data\nsignal = np.load('data/ca1.npy') / 1000\nsignal = signal[:125000]\nFs = 1250\nf_theta = (4, 10)\nf_lowpass = 30\nN_seconds = .1\n\n# Lowpass filter\nsignal_low = lowpass_filter(signal, Fs, f_lowpass,\n                            N_seconds=N_seconds, remove_edge_artifacts=False)\n\n# Plot signal\nt = np.arange(0, len(signal)/Fs, 1/Fs)\ntlim = (2, 5)\ntidx = np.logical_and(t>=tlim[0], t<tlim[1])\n\nplt.figure(figsize=(12, 2))\nplt.plot(t[tidx], signal[tidx], '.5')\nplt.plot(t[tidx], signal_low[tidx], 'k')\nplt.xlim(tlim)\nplt.tight_layout()\nplt.show()"
      ]
    },
    {
      "cell_type": "markdown",
      "metadata": {},
      "source": [
        "1. Localize peaks and troughs\n-----------------------------\n\nIn order to characterize the oscillation, it is useful to know the precise times of peaks and\ntroughs. For one, this will allow us to compute the periods and rise-decay symmetries of the\nindividual cycles. To do this, the signal is first narrow-bandpass filtered in order to estimate\n\"zero-crossings.\" Then, in between these zerocrossings, the absolute maxima and minima are found\nand labeled as the peaks and troughs, respectively.\n\n"
      ]
    },
    {
      "cell_type": "code",
      "execution_count": null,
      "metadata": {
        "collapsed": false
      },
      "outputs": [],
      "source": [
        "from bycycle.filt import bandpass_filter\nfrom bycycle.cyclepoints import _fzerorise, _fzerofall, find_extrema\n\n# Narrowband filter signal\nN_seconds_theta = .75\nsignal_narrow = bandpass_filter(signal, Fs, f_theta,\n                                remove_edge_artifacts=False,\n                                N_seconds=N_seconds_theta)\n\n# Find rising and falling zerocrossings (narrowband)\nzeroriseN = _fzerorise(signal_narrow)\nzerofallN = _fzerofall(signal_narrow)"
      ]
    },
    {
      "cell_type": "code",
      "execution_count": null,
      "metadata": {
        "collapsed": false
      },
      "outputs": [],
      "source": [
        "# Find peaks and troughs (this function also does the above)\nPs, Ts = find_extrema(signal_low, Fs, f_theta,\n                      filter_kwargs={'N_seconds':N_seconds_theta})\n\ntlim = (12, 15)\ntidx = np.logical_and(t>=tlim[0], t<tlim[1])\ntidxPs = Ps[np.logical_and(Ps>tlim[0]*Fs, Ps<tlim[1]*Fs)]\ntidxTs = Ts[np.logical_and(Ts>tlim[0]*Fs, Ts<tlim[1]*Fs)]\n\nplt.figure(figsize=(12, 2))\nplt.plot(t[tidx], signal_low[tidx], 'k')\nplt.plot(t[tidxPs], signal_low[tidxPs], 'b.', ms=10)\nplt.plot(t[tidxTs], signal_low[tidxTs], 'r.', ms=10)\nplt.xlim(tlim)\nplt.tight_layout()\nplt.show()"
      ]
    },
    {
      "cell_type": "markdown",
      "metadata": {},
      "source": [
        "Note the filter characteristics used in the process of finding peaks and troughs\n~~~~~~~~~~~~~~~~~~~~~~~~~~~~~~~~~~~~~~~~~~~~~~~~~~~~~~~~~~~~~~~~~~~~~~~~~~~~~~~~\n\n"
      ]
    },
    {
      "cell_type": "code",
      "execution_count": null,
      "metadata": {
        "collapsed": false
      },
      "outputs": [],
      "source": [
        "# Plot frequency response of bandpass filter\nfrom bycycle.filt import bandpass_filter\nbandpass_filter(signal, Fs, (4, 10), N_seconds=.75, plot_frequency_response=True)"
      ]
    },
    {
      "cell_type": "markdown",
      "metadata": {},
      "source": [
        "2. Localize rise and decay midpoints\n------------------------------------\n\nIn addition to localizing the peaks and troughs of a cycle, we also want to get more information\nabout the rise and decay periods. For instance, these flanks may have deflections if the peaks or\ntroughs are particularly sharp. In order to gauge a dimension of this, we localize midpoints for\neach of the rise and decay segments. These midpoints are defined as the times at which the voltage\ncrosses halfway between the adjacent peak and trough voltages. If this threshold is crossed\nmultiple times, then the median time is chosen as the flank midpoint. This is not perfect;\nhowever, this is rare, and most of these cycles should be removed by burst detection.\n\n"
      ]
    },
    {
      "cell_type": "code",
      "execution_count": null,
      "metadata": {
        "collapsed": false
      },
      "outputs": [],
      "source": [
        "from bycycle.cyclepoints import find_zerox\nzeroxR, zeroxD = find_zerox(signal_low, Ps, Ts)"
      ]
    },
    {
      "cell_type": "code",
      "execution_count": null,
      "metadata": {
        "collapsed": false
      },
      "outputs": [],
      "source": [
        "tlim = (13, 14)\ntidx = np.logical_and(t>=tlim[0], t<tlim[1])\ntidxPs = Ps[np.logical_and(Ps>tlim[0]*Fs, Ps<tlim[1]*Fs)]\ntidxTs = Ts[np.logical_and(Ts>tlim[0]*Fs, Ts<tlim[1]*Fs)]\ntidxDs = zeroxD[np.logical_and(zeroxD>tlim[0]*Fs, zeroxD<tlim[1]*Fs)]\ntidxRs = zeroxR[np.logical_and(zeroxR>tlim[0]*Fs, zeroxR<tlim[1]*Fs)]\n\nplt.figure(figsize=(12, 2))\nplt.plot(t[tidx], signal_low[tidx], 'k')\nplt.plot(t[tidxPs], signal_low[tidxPs], 'b.', ms=10)\nplt.plot(t[tidxTs], signal_low[tidxTs], 'r.', ms=10)\nplt.plot(t[tidxDs], signal_low[tidxDs], 'm.', ms=10)\nplt.plot(t[tidxRs], signal_low[tidxRs], 'g.', ms=10)\nplt.xlim(tlim)\nplt.xlabel('Time (seconds)')\nplt.tight_layout()\nplt.show()"
      ]
    },
    {
      "cell_type": "markdown",
      "metadata": {},
      "source": [
        "3. Compute features of each cycle\n---------------------------------\nAfter these 4 points of each cycle are localized, we compute some simple statistics for each\ncycle. The main cycle-by-cycle function,  compute_features(), returns a table (pandas.DataFrame)\nin which each entry is a cycle and each column is a property of that cycle (see table below).\nThere are columns to indicate where in the signal the cycle is located, but the four main features\nare:\n\n- amplitude (volt_amp) - average voltage change of the rise and decay\n- period (period) - time between consecutive troughs (or peaks, if default is changed)\n- rise-decay symmetry (time_rdsym) - fraction of the period in the rise period\n- peak-trough symmetry (time_ptsym) - fraction of the period in the peak period\n\nNote that a warning appears here because no burst detection parameters are provided. This is\naddressed in section #4\n\n"
      ]
    },
    {
      "cell_type": "code",
      "execution_count": null,
      "metadata": {
        "collapsed": false
      },
      "outputs": [],
      "source": [
        "from bycycle.features import compute_features\ndf = compute_features(signal, Fs, f_theta)\nprint(df.head())"
      ]
    },
    {
      "cell_type": "markdown",
      "metadata": {},
      "source": [
        "4. Determine parts of signal in oscillatory burst\n-------------------------------------------------\nNote above that the signal is segmented into cycles and the dataframe provides properties for each\nsegment of the signal. However, if no oscillation is apparent in the signal at a given time, the\nproperties for these \"cycles\" are meaningless. Therefore, it is useful to have a binary indicator\nfor each cycle that indicates whether the cycle being analyzed is truly part of an oscillatory\nburst or not. Recently, significant interest has emerged in detecting bursts in signals and\nanalyzing their properties (see e.g. Feingold et al., PNAS, 2015). Nearly all efforts toward burst\ndetection relies on amplitude thresholds, but this can be disadvantageous because these algorithms\nwill behave very differently on signals where oscillations are common versus rare.\n\nIn our approach, we employ an alternative technique for burst detection. There are 3 thresholds\nthat need to be met in order for a cycle to be classified as part of an oscillatory burst.\n\n1. amplitude consistency - consecutive rises and decays should be comparable in magnitude.\n\n- The amplitude consistency of a cycle is equal to the maximum relative difference between rises \\\n  and decay amplitudes across all pairs of adjacent rises and decays that include one of the \\\n  flanks in the cycle (3 pairs)\n- e.g. if a rise is 10mV and a decay is 7mV, then its amplitude consistency is 0.7.\n\n2. period consistency - consecutive cycles should be comparable in duration\n\n- The period consistency is equal to the maximu relative difference between all pairs of \\\n  adjacent periods that include the cycle of interest (2 pairs: current + previous cycles and \\\n  current + next cycles)\n- e.g. if the previous, current, and next cycles have periods 60ms, 100ms, and 120ms, \\\n  respectively, then the period consistency is min(60/100, 100/120) = 0.6.\n\n3. monotonicity - the rise and decay flanks of the cycle should be mostly monotonic\n\n- The monotonicity is the fraction of samples that the instantaneous derivative (numpy.diff) is \\\n  consistent with the direction of the flank.\n- e.g. if in the rise, the instantaneous derivative is 90% positive, and in the decay, the \\\n  instantaneous derivative is 80% negative, then the monotonicity of the cycle would be 0.85 \\\n  ((0.9+0.8)/2)\n\nBelow, we load a simulated signal and then define 3 sets of thresholds ranging from liberal to\nconservative.\n\nLoad a simulated signal and apply a lowpass filter\n~~~~~~~~~~~~~~~~~~~~~~~~~~~~~~~~~~~~~~~~~~~~~~~~~~\n\n"
      ]
    },
    {
      "cell_type": "code",
      "execution_count": null,
      "metadata": {
        "collapsed": false
      },
      "outputs": [],
      "source": [
        "# Load the signal\nsignal = np.load('data/sim_bursting.npy')\nFs = 1000  # Sampling rate\nf_alpha = (8, 12)\n\n# Apply a lowpass filter to remove high frequency power that interferes with extrema localization\nsignal = lowpass_filter(signal, Fs, 30, N_seconds=.2, remove_edge_artifacts=False)"
      ]
    },
    {
      "cell_type": "markdown",
      "metadata": {},
      "source": [
        "Visualizing burst detection settings\n~~~~~~~~~~~~~~~~~~~~~~~~~~~~~~~~~~~~\nBelow, we visualize how the burst detector determined which cycles were part of an oscillatory\nburst. The top plot shows a markup of the time series. The portions of the signal in red were\ndetermined to be parts of bursts. Signals in black were not part of bursts. Magenta and cyan dots\ndenote detected peaks and troughs, respectively. Highlights indicate cycles marked as not part of\na burst because they did not meet certain thresholds:\n\n- red highlight: amplitude consistency threshold violation\n- yellow highlight: period consistency threshold violation\n- green highlight: monotonicity threshold violation The plots below show the relevant features \\\n  for each cycle as well as the threshold (dotted lines), where we can see the highlights appear \\\n  if the features went below the threshold.\n\nNote there is an optional \"band amplitude fraction\" threshold. This is currently unused (set to 0)\n, but is present in case users want to add an amplitude threshold to this algorithm.\n\nBurst detection settings: too liberal\n~~~~~~~~~~~~~~~~~~~~~~~~~~~~~~~~~~~~~\nThe following burst detection thresholds (defined in burst_kwargs) are too low, so some portions\nof the signal that do not have much apparent oscillatory burst are still labeled as if they do.\n\n"
      ]
    },
    {
      "cell_type": "code",
      "execution_count": null,
      "metadata": {
        "collapsed": false
      },
      "outputs": [],
      "source": [
        "from bycycle.burst import plot_burst_detect_params\n\nburst_kwargs = {'amplitude_fraction_threshold': 0,\n                'amplitude_consistency_threshold': .2,\n                'period_consistency_threshold': .45,\n                'monotonicity_threshold': .7,\n                'N_cycles_min': 3}\n\ndf = compute_features(signal, Fs, f_alpha, burst_detection_kwargs=burst_kwargs)\n\nplot_burst_detect_params(signal, Fs, df, burst_kwargs,\n                         tlims=None, figsize=(12, 3))"
      ]
    },
    {
      "cell_type": "markdown",
      "metadata": {},
      "source": [
        "Burst detection settings: too conservative\n~~~~~~~~~~~~~~~~~~~~~~~~~~~~~~~~~~~~~~~~~~\nThese new burst detection thresholds seem to be set too high (too strict) as the algorithm is not\nable to detect the bursts that are present.\n\n"
      ]
    },
    {
      "cell_type": "code",
      "execution_count": null,
      "metadata": {
        "collapsed": false
      },
      "outputs": [],
      "source": [
        "burst_kwargs = {'amplitude_fraction_threshold': 0,\n                'amplitude_consistency_threshold': .75,\n                'period_consistency_threshold': .7,\n                'monotonicity_threshold': .9,\n                'N_cycles_min': 3}\n\ndf = compute_features(signal, Fs, f_alpha, burst_detection_kwargs=burst_kwargs)\n\nplot_burst_detect_params(signal, Fs, df, burst_kwargs,\n                         tlims=None, figsize=(12, 3))"
      ]
    },
    {
      "cell_type": "markdown",
      "metadata": {},
      "source": [
        "More appropriate burst detection thresholds\n~~~~~~~~~~~~~~~~~~~~~~~~~~~~~~~~~~~~~~~~~~~\nThe conservative thresholds were then lowered, and we can see now that the algorithms correctly\nidentifies parts of the 3 bursting periods. Therefore, for a signal with this level of noise, we\nexpect these parameters to be pretty good.\n\nNotice that adding a small amplitude fraction threshold (e.g. 0.3) helps remove some false\npositives that may occur, like that around 1.5 seconds.\n\n"
      ]
    },
    {
      "cell_type": "code",
      "execution_count": null,
      "metadata": {
        "collapsed": false
      },
      "outputs": [],
      "source": [
        "burst_kwargs = {'amplitude_fraction_threshold': .3,\n                'amplitude_consistency_threshold': .4,\n                'period_consistency_threshold': .5,\n                'monotonicity_threshold': .8,\n                'N_cycles_min': 3}\n\ndf = compute_features(signal, Fs, f_alpha, burst_detection_kwargs=burst_kwargs)\n\nplot_burst_detect_params(signal, Fs, df, burst_kwargs,\n                         tlims=None, figsize=(12, 3))"
      ]
    }
  ],
  "metadata": {
    "kernelspec": {
      "display_name": "Python 3",
      "language": "python",
      "name": "python3"
    },
    "language_info": {
      "codemirror_mode": {
        "name": "ipython",
        "version": 3
      },
      "file_extension": ".py",
      "mimetype": "text/x-python",
      "name": "python",
      "nbconvert_exporter": "python",
      "pygments_lexer": "ipython3",
      "version": "3.8.2"
    }
  },
  "nbformat": 4,
  "nbformat_minor": 0
}