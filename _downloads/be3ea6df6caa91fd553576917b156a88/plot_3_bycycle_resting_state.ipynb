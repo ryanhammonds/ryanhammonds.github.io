{
  "cells": [
    {
      "cell_type": "code",
      "execution_count": null,
      "metadata": {
        "collapsed": false
      },
      "outputs": [],
      "source": [
        "%matplotlib inline"
      ]
    },
    {
      "cell_type": "markdown",
      "metadata": {},
      "source": [
        "\n3. Cycle-by-cycle analysis of resting state data\n================================================\n\nSay we ran an experiment and want to compare subjects' resting state data for some reason. Maybe we\nwant to study age, gender, disease state, or something. This has often been done to study\ndifferences in oscillatory power or coupling between groups of people. In this notebook, we will run\nthrough how to use bycycle to analyze resting state data.\n\nIn this example, we have 20 subjects (10 patients, 10 control), and we for some reason hypothesized\nthat their alpha oscillations may be systematically different. For example, (excessive hand waving)\nwe think the patient group should have more top-down input that increases the synchrony in the\noscillatory input (measured by its symmetry).\n"
      ]
    },
    {
      "cell_type": "code",
      "execution_count": null,
      "metadata": {
        "collapsed": false
      },
      "outputs": [],
      "source": [
        "import numpy as np\nimport scipy as sp\nfrom scipy import stats\nimport matplotlib.pyplot as plt\nfrom bycycle.filt import lowpass_filter\nfrom bycycle.features import compute_features\nimport pandas as pd\nimport seaborn as sns\npd.options.display.max_columns=50"
      ]
    },
    {
      "cell_type": "markdown",
      "metadata": {},
      "source": [
        "Load simulated experiment of 10 patients and 10 controls\n--------------------------------------------------------\n\n"
      ]
    },
    {
      "cell_type": "code",
      "execution_count": null,
      "metadata": {
        "collapsed": false
      },
      "outputs": [],
      "source": [
        "# Load experimental data\nsignals = np.load('data/sim_experiment.npy')\nFs = 1000  # Sampling rate\n\n# Apply lowpass filter to each signal\nfor i in range(len(signals)):\n    signals[i] = lowpass_filter(signals[i], Fs, 30, N_seconds=.2, remove_edge_artifacts=False)"
      ]
    },
    {
      "cell_type": "code",
      "execution_count": null,
      "metadata": {
        "collapsed": false
      },
      "outputs": [],
      "source": [
        "# Plot an example signal\nN = len(signals)\nT = len(signals[0])/Fs\nt = np.arange(0, T, 1/Fs)\n\nplt.figure(figsize=(16,3))\nplt.plot(t, signals[0], 'k')\nplt.xlim((0, T))\nplt.show()"
      ]
    },
    {
      "cell_type": "markdown",
      "metadata": {},
      "source": [
        "Compute cycle-by-cycle features\n-------------------------------\n\n"
      ]
    },
    {
      "cell_type": "code",
      "execution_count": null,
      "metadata": {
        "collapsed": false
      },
      "outputs": [],
      "source": [
        "f_alpha = (7, 13) # Frequency band of interest\nburst_kwargs = {'amplitude_fraction_threshold': .2,\n                'amplitude_consistency_threshold': .5,\n                'period_consistency_threshold': .5,\n                'monotonicity_threshold': .8,\n                'N_cycles_min': 3} # Tuned burst detection parameters\n\n# Compute features for each signal and concatenate into single dataframe\ndfs = []\nfor i in range(N):\n    df = compute_features(signals[i], Fs, f_alpha,\n                          burst_detection_kwargs=burst_kwargs)\n    if i >= int(N/2):\n        df['group'] = 'patient'\n    else:\n        df['group'] = 'control'\n    df['subject_id'] = i\n    dfs.append(df)\ndf_cycles = pd.concat(dfs)"
      ]
    },
    {
      "cell_type": "code",
      "execution_count": null,
      "metadata": {
        "collapsed": false
      },
      "outputs": [],
      "source": [
        "print(df_cycles.head())"
      ]
    },
    {
      "cell_type": "markdown",
      "metadata": {},
      "source": [
        "Confirm appropriateness of burst detection parameters\n-----------------------------------------------------\n\nThese burst detection parameters seem appropriate because they mostly restrict the analysis to\nperiods of the signal that appear to be bursting. This was confirmed by looking at a few different\nsignal segments from a few subjects.\n\n"
      ]
    },
    {
      "cell_type": "code",
      "execution_count": null,
      "metadata": {
        "collapsed": false
      },
      "outputs": [],
      "source": [
        "subj = 1\nsignal_df = df_cycles[df_cycles['subject_id']==subj]\nfrom bycycle.burst import plot_burst_detect_params\nplot_burst_detect_params(signals[subj], Fs, signal_df,\n                         burst_kwargs, tlims=(0, 5), figsize=(16, 3), plot_only_result=True)\n\nplot_burst_detect_params(signals[subj], Fs, signal_df,\n                         burst_kwargs, tlims=(0, 5), figsize=(16, 3))"
      ]
    },
    {
      "cell_type": "markdown",
      "metadata": {},
      "source": [
        "Analyze cycle-by-cycle features\n-------------------------------\n\nNote the significant difference between the treatment and control groups for rise-decay symmetry\nbut not the other features\n\n"
      ]
    },
    {
      "cell_type": "code",
      "execution_count": null,
      "metadata": {
        "collapsed": false
      },
      "outputs": [],
      "source": [
        "# Only consider cycles that were identified to be in bursting regimes\ndf_cycles_burst = df_cycles[df_cycles['is_burst']]\n\n# Compute average features across subjects in a recording\nfeatures_keep = ['volt_amp', 'period', 'time_rdsym', 'time_ptsym']\ndf_subjects = df_cycles_burst.groupby(['group', 'subject_id']).mean()[features_keep].reset_index()\nprint(df_subjects)"
      ]
    },
    {
      "cell_type": "code",
      "execution_count": null,
      "metadata": {
        "collapsed": false
      },
      "outputs": [],
      "source": [
        "feature_names = {'volt_amp': 'Amplitude',\n                 'period': 'Period (ms)',\n                 'time_rdsym': 'Rise-decay symmetry',\n                 'time_ptsym': 'Peak-trough symmetry'}\nfor feat, feat_name in feature_names.items():\n    g = sns.catplot(x='group', y=feat, data=df_subjects)\n    plt.xlabel('')\n    plt.xticks(size=20)\n    plt.ylabel(feat_name, size=20)\n    plt.yticks(size=15)\n    plt.tight_layout()\n    plt.show()"
      ]
    },
    {
      "cell_type": "markdown",
      "metadata": {},
      "source": [
        "Statistical differences in cycle features\n-----------------------------------------\n\n"
      ]
    },
    {
      "cell_type": "code",
      "execution_count": null,
      "metadata": {
        "collapsed": false
      },
      "outputs": [],
      "source": [
        "for feat, feat_name in feature_names.items():\n    x_treatment = df_subjects[df_subjects['group']=='patient'][feat]\n    x_control = df_subjects[df_subjects['group']=='control'][feat]\n    U, p = stats.mannwhitneyu(x_treatment, x_control)\n    print('{:20s} difference between groups, U= {:3.0f}, p={:.5f}'.format(feat_name, U, p))"
      ]
    }
  ],
  "metadata": {
    "kernelspec": {
      "display_name": "Python 3",
      "language": "python",
      "name": "python3"
    },
    "language_info": {
      "codemirror_mode": {
        "name": "ipython",
        "version": 3
      },
      "file_extension": ".py",
      "mimetype": "text/x-python",
      "name": "python",
      "nbconvert_exporter": "python",
      "pygments_lexer": "ipython3",
      "version": "3.8.2"
    }
  },
  "nbformat": 4,
  "nbformat_minor": 0
}